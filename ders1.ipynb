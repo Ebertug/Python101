{
  "nbformat": 4,
  "nbformat_minor": 0,
  "metadata": {
    "colab": {
      "provenance": []
    },
    "kernelspec": {
      "name": "python3",
      "display_name": "Python 3"
    },
    "language_info": {
      "name": "python"
    }
  },
  "cells": [
    {
      "cell_type": "markdown",
      "source": [
        "**Değişken Tanımlama Kuralları**\n",
        "---\n",
        "\n",
        "\n",
        "Değişken ismi solda, değişkenin değeri sağda yazılır | isim = \"Eyüp\"\n",
        "\n",
        "\n",
        "\n",
        "\n",
        "Değişkenler sayı ile başlayamaz. | 5 12 gibi\n",
        "\n",
        "\n",
        "\n",
        "\n",
        "Değişkenler özel karakterlerle başlayamaz | ? ! vb.\n",
        "\n",
        "\n",
        "Değişken isimleri Türkçe karakter\n",
        "\n",
        "\n",
        "\n",
        "\n",
        "Değişkenlerin adı pythonda kullanılan kelimelerden seçilemez. | print = \"asd\" veya not = 77 Doğru bir kullanım DEĞİLDİR.\n",
        "\n",
        "\n",
        "\n"
      ],
      "metadata": {
        "id": "JTM2n2RtUg4M"
      }
    },
    {
      "cell_type": "code",
      "execution_count": 1,
      "metadata": {
        "id": "E2ZHguLPUe0E"
      },
      "outputs": [],
      "source": [
        "isim = \"Eyüp\"\n",
        "yas = 20"
      ]
    },
    {
      "cell_type": "markdown",
      "source": [
        "Ekrana yazı yazdırmak için **print()** fonksiyonu kullanılır.\n",
        "---\n",
        "\n",
        "\n",
        "print(\"deneme\") bu print fonksiyonun çıktısı ***deneme*** olacaktır.\n",
        "\n",
        "print(isim) bu print fonksiyonun çıktısı ***Eyüp*** olacaktır.\n",
        "\n",
        "\n",
        "\n"
      ],
      "metadata": {
        "id": "PmabsC89WMs3"
      }
    },
    {
      "cell_type": "code",
      "source": [
        "print(\"deneme\")\n",
        "print(isim)"
      ],
      "metadata": {
        "colab": {
          "base_uri": "https://localhost:8080/"
        },
        "id": "3gWbdx-6XOFs",
        "outputId": "fa576c89-8174-4651-b13c-98c29c305525"
      },
      "execution_count": 2,
      "outputs": [
        {
          "output_type": "stream",
          "name": "stdout",
          "text": [
            "deneme\n",
            "Eyüp\n"
          ]
        }
      ]
    },
    {
      "cell_type": "markdown",
      "source": [
        "Bu iki kullanımı birleştirip aşağıdaki gibi kullanabilirsiniz"
      ],
      "metadata": {
        "id": "1QEej4N3Xk2m"
      }
    },
    {
      "cell_type": "code",
      "source": [
        "print(\"Benim Adım\",isim,\"Benim Yaşım\",yas)"
      ],
      "metadata": {
        "colab": {
          "base_uri": "https://localhost:8080/"
        },
        "id": "08BNzdb7XZTh",
        "outputId": "7d38a7d9-11ca-4e8c-b8ef-f8ff809a22b6"
      },
      "execution_count": 3,
      "outputs": [
        {
          "output_type": "stream",
          "name": "stdout",
          "text": [
            "Benim Adım Eyüp Benim Yaşım 20\n"
          ]
        }
      ]
    },
    {
      "cell_type": "markdown",
      "source": [
        "Değişken belirterek kullandığımız print fonksiyonunu format fonksiyonu ile birleştirip aşağıdaki gibi de kullanabiliriz.\n",
        "\n",
        "\n",
        "\n",
        "\"{}\" ile belirtilen yerlere format fonksiyonu içersinde yazan değişkenler sırasıyla yerleşir."
      ],
      "metadata": {
        "id": "v_1L2g-SXsGb"
      }
    },
    {
      "cell_type": "code",
      "source": [
        "print(\"Benim Adım {} Benim Yaşım {}\".format(isim,yas))"
      ],
      "metadata": {
        "colab": {
          "base_uri": "https://localhost:8080/"
        },
        "id": "jsuIy4t7X9Io",
        "outputId": "a3ac9aac-00bc-4908-b368-7f79e65bc5f6"
      },
      "execution_count": 4,
      "outputs": [
        {
          "output_type": "stream",
          "name": "stdout",
          "text": [
            "Benim Adım Eyüp Benim Yaşım 20\n"
          ]
        }
      ]
    },
    {
      "cell_type": "markdown",
      "source": [
        "Günlük kullanımda da olduğu gibi sayılar ve kelimeler(cümle ile kelime aynı şekilde kullanılır.) pythonda da farklıdır.\n",
        "---\n",
        "kelime = \"Bu bir cümledir.\"\n",
        "\n",
        "---\n",
        "\n",
        "\n",
        "sayi = 14\n",
        "\n",
        "\n",
        "---\n",
        "\n",
        "sayi2 = \"15\"\n",
        "\n",
        "\n",
        "\n",
        "\n",
        "\n"
      ],
      "metadata": {
        "id": "ml5NpLsMYvHX"
      }
    },
    {
      "cell_type": "code",
      "source": [
        "kelime = \"Bu bir cümledir\"\n",
        "sayi = 14\n",
        "sayi2 = \"15\"\n",
        "sayi3 = 13.0"
      ],
      "metadata": {
        "id": "70la73dWZjKU"
      },
      "execution_count": 12,
      "outputs": []
    },
    {
      "cell_type": "markdown",
      "source": [
        "type() fonksiyonunu kullanarak değişkenlerin tipini öğrenebilir.\n",
        "---"
      ],
      "metadata": {
        "id": "T-QrXHYLcVPE"
      }
    },
    {
      "cell_type": "code",
      "source": [
        "print(type(kelime))\n",
        "print(type(sayi))\n",
        "print(type(sayi2))\n",
        "print(type(sayi3))"
      ],
      "metadata": {
        "colab": {
          "base_uri": "https://localhost:8080/"
        },
        "id": "w2IUuGs-aTmw",
        "outputId": "1360e06b-6e23-4429-8be5-ac5ca5d33417"
      },
      "execution_count": 13,
      "outputs": [
        {
          "output_type": "stream",
          "name": "stdout",
          "text": [
            "<class 'str'>\n",
            "<class 'int'>\n",
            "<class 'str'>\n",
            "<class 'float'>\n"
          ]
        }
      ]
    },
    {
      "cell_type": "markdown",
      "source": [
        "str String'in kısaltmasıdır.\n",
        "---\n",
        "\n",
        "\n",
        "\n",
        "\" \" içerisinde tanımlanan değişkenler string tipindedir.\n",
        "\n",
        "\" \" içersinde sayı olsa bile bu değişken yine stringtir.\n",
        "\n",
        "\n",
        "---\n",
        "\n",
        "\n",
        "int Integer'ın kısaltmasıdır.\n",
        "---\n",
        "\" \" işarti kullanmadan tanımlanan değişkenler sayıdır.\n",
        "sayılar da kendi aralında ayrılırlar.\n",
        "\n",
        "int tam sayılar için kullanılır.\n",
        "\n",
        "float ondalık sayılar için kullanılır.\n",
        "\n"
      ],
      "metadata": {
        "id": "kUUJoLg5aiDO"
      }
    },
    {
      "cell_type": "markdown",
      "source": [
        "**Operatörler**\n",
        "---\n",
        "\n",
        "Toplama işlemi +\n",
        "\n",
        "Çıkarma İşlemi -\n",
        "\n",
        "Çarpma  İşlemi *\n",
        "\n",
        "Bölme İşlemi /\n",
        "\n",
        "Mod İşlemi %"
      ],
      "metadata": {
        "id": "pCua056Gdlxk"
      }
    },
    {
      "cell_type": "markdown",
      "source": [
        "Sayılar(Hepsi) ve Kelimeler(Çarpma ve Toplama) ile yukarıdaki operatörler kullanılarak işlemler yapılabilir."
      ],
      "metadata": {
        "id": "dywMLv8jemjZ"
      }
    },
    {
      "cell_type": "code",
      "source": [
        "print(sayi)       #değişkenin değeri\n",
        "print(type(sayi)) #değişkenin tipini öğrenip ona göre işlem yapıyoruz.\n",
        "print(sayi*5)     #14'ün 5 ile çarpımı\n",
        "print(sayi/3)     #14'ün 3 ile bölümü\n",
        "print(sayi+7)     #14'ün 7 ile toplamı\n",
        "print(sayi-4)     #14'ün 4 ile farkı\n",
        "print(sayi%2)     #14'ün 2 ile bölümünden kalan"
      ],
      "metadata": {
        "colab": {
          "base_uri": "https://localhost:8080/"
        },
        "id": "MjLoUbv9e1T-",
        "outputId": "dd20f181-0c36-4a22-d726-7ac53852471f"
      },
      "execution_count": 26,
      "outputs": [
        {
          "output_type": "stream",
          "name": "stdout",
          "text": [
            "14\n",
            "<class 'int'>\n",
            "70\n",
            "4.666666666666667\n",
            "21\n",
            "10\n",
            "0\n"
          ]
        }
      ]
    },
    {
      "cell_type": "code",
      "source": [
        "print(sayi2)        #değişkenin değeri\n",
        "print(type(sayi2))  #değişkenin tipini öğrenip ona göre işlem yapıyoruz. yukarıda \" \" içerisinde tanımladığımız için değişken str tipindedir.\n",
        "print(sayi2*7)      #15'i str olduğu için 7 ile çarpmak yerine 7 kere yan yana yazıyor\n",
        "print(sayi2+sayi2)  #15'i str olduğu için yan yana 2 defa yazıyor."
      ],
      "metadata": {
        "colab": {
          "base_uri": "https://localhost:8080/"
        },
        "id": "sAWTrSulgLPh",
        "outputId": "6db78760-49c9-4d15-e95f-ac4e25e812ac"
      },
      "execution_count": 25,
      "outputs": [
        {
          "output_type": "stream",
          "name": "stdout",
          "text": [
            "15\n",
            "<class 'str'>\n",
            "15151515151515\n",
            "1515\n"
          ]
        }
      ]
    },
    {
      "cell_type": "markdown",
      "source": [
        "Sayı olan ama \" \" içerisinde yazılan string değerleri int ya da float tipine \n",
        "çevirebilirz ve diğer matematik işlemlerini de kullanabiliriz.\n",
        "\n",
        "integer'a çevirmek için int() fonksiyonunu kullanacağız.\n",
        "\n",
        "\"15\" bir string değerdir. int fonksiyonu ile \"15\"'i integer bir değer yapacağız."
      ],
      "metadata": {
        "id": "Vms8sEIJiWZw"
      }
    },
    {
      "cell_type": "code",
      "source": [
        "print(type(sayi2))  #değişkenin ilk tipini kontrol ediyoruz.\n",
        "sayi2 = int(sayi2)  #int fonksiyonu ile str olan \"15\"'i sayı olan 15'e çeviriyoruz ve sayi2 değişkenine bu değeri tanımlıyoruz.\n",
        "print(type(sayi2))  #değişkenin yeni tipini kontrol ediyoruz."
      ],
      "metadata": {
        "colab": {
          "base_uri": "https://localhost:8080/"
        },
        "id": "ycPxDsA7izk4",
        "outputId": "95b654d0-dfc9-4254-818e-ace01b7498d7"
      },
      "execution_count": 30,
      "outputs": [
        {
          "output_type": "stream",
          "name": "stdout",
          "text": [
            "<class 'str'>\n",
            "<class 'int'>\n"
          ]
        }
      ]
    },
    {
      "cell_type": "code",
      "source": [
        "print(sayi2)       #değişkenin değeri\n",
        "print(type(sayi2)) #değişkenin tipini öğrenip ona göre işlem yapıyoruz.\n",
        "print(sayi2*5)     #15'ün 5 ile çarpımı\n",
        "print(sayi2/3)     #15'ün 3 ile bölümü\n",
        "print(sayi2+7)     #15'ün 7 ile toplamı\n",
        "print(sayi2-4)     #15'ün 4 ile farkı\n",
        "print(sayi2%2)     #15'ün 2 ile bölümünden kalan"
      ],
      "metadata": {
        "colab": {
          "base_uri": "https://localhost:8080/"
        },
        "id": "NaQOr7uvjThc",
        "outputId": "ddf10f8c-4d01-4bd7-d012-23e306da4d7a"
      },
      "execution_count": 33,
      "outputs": [
        {
          "output_type": "stream",
          "name": "stdout",
          "text": [
            "15\n",
            "<class 'int'>\n",
            "75\n",
            "5.0\n",
            "22\n",
            "11\n",
            "1\n"
          ]
        }
      ]
    },
    {
      "cell_type": "code",
      "source": [
        "isim = \"Hasan \"\n",
        "isim2 = \"Kalyoncu\"\n",
        "print(isim*2)\n",
        "print(isim+isim2)"
      ],
      "metadata": {
        "colab": {
          "base_uri": "https://localhost:8080/"
        },
        "id": "ZjSic759hvT_",
        "outputId": "cf90064a-7399-4dcd-c695-278f8dd2d167"
      },
      "execution_count": 29,
      "outputs": [
        {
          "output_type": "stream",
          "name": "stdout",
          "text": [
            "Hasan Hasan \n",
            "Hasan Kalyoncu\n"
          ]
        }
      ]
    },
    {
      "cell_type": "markdown",
      "source": [
        "Buraya kadar hep değişkenlerin değerlerini kendimiz yazarak belirledik.\n",
        "\n",
        "Şimdi bu bilgileri kullanıcadan almak için input() fonksiyonunu kullanacağız."
      ],
      "metadata": {
        "id": "eRqrGspEiCuR"
      }
    },
    {
      "cell_type": "code",
      "source": [
        "isim = input(\"İsminizi Giriniz -> \")\n",
        "yas = int(input(\"Yaşınızı Giriniz -> \"))\n",
        "\n",
        "print(\"Benim Adım\",isim,\"Benim Yaşım\",yas)\n",
        "print(\"Benim Adım {} Benim Yaşım {}\".format(isim,yas))"
      ],
      "metadata": {
        "colab": {
          "base_uri": "https://localhost:8080/"
        },
        "id": "eeyaJahUiOUn",
        "outputId": "06e9122a-7953-4812-d02f-1a18deb09e7c"
      },
      "execution_count": 34,
      "outputs": [
        {
          "output_type": "stream",
          "name": "stdout",
          "text": [
            "İsminizi Giriniz -> Eyüp\n",
            "Yaşınızı Giriniz -> 20\n",
            "Benim Adım Eyüp Benim Yaşım 20\n",
            "Benim Adım Eyüp Benim Yaşım 20\n"
          ]
        }
      ]
    }
  ]
}