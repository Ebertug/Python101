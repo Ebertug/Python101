{
  "nbformat": 4,
  "nbformat_minor": 0,
  "metadata": {
    "colab": {
      "provenance": []
    },
    "kernelspec": {
      "name": "python3",
      "display_name": "Python 3"
    },
    "language_info": {
      "name": "python"
    }
  },
  "cells": [
    {
      "cell_type": "markdown",
      "source": [
        "**Karar Yapıları**\n",
        "---\n",
        "\n",
        "Kodun belirli bir kısmının belirlediğimiz koşulun sağlanıp sağlanmamasına göre çalışmasını sağlayan yapıdır.\n",
        "\n",
        "**Karar Yapısı Operatörleri**\n",
        "---\n",
        "\"==\" Eşitse\n",
        "\n",
        "\"!=\" Eşit Değilse\n",
        "\n",
        "\"<\" Küçükse\n",
        "\n",
        "\">\" Büyükse\n",
        "\n",
        "\"<=\" Küçük veya Eşitse\n",
        "\n",
        "\">=\" Büyük veya Eşitse\n",
        "\n",
        "\"and\" ve\n",
        "\n",
        "\"or\" ya da "
      ],
      "metadata": {
        "id": "VIni79w8loZg"
      }
    },
    {
      "cell_type": "code",
      "execution_count": 6,
      "metadata": {
        "colab": {
          "base_uri": "https://localhost:8080/"
        },
        "id": "RdyiNV-QktSR",
        "outputId": "2d6c850d-15cc-447d-8ea1-521811ab3b42"
      },
      "outputs": [
        {
          "output_type": "stream",
          "name": "stdout",
          "text": [
            "Yaşınızı Giriniz -> 15\n",
            "18 Yaşından Küçük.\n",
            "Giriş Yapamaz.\n"
          ]
        }
      ],
      "source": [
        "yas = int(input(\"Yaşınızı Giriniz -> \"))\n",
        "\n",
        "if(yas >= 18 ):\n",
        "  print(\"18 Yaşında veya daha büyük.\")\n",
        "  print(\"Giriş Yapabilir.\")\n",
        "elif(yas<18):\n",
        "  print(\"18 Yaşından Küçük.\")\n",
        "  print(\"Giriş Yapamaz.\")"
      ]
    },
    {
      "cell_type": "code",
      "source": [
        "yas = int(input(\"Yaşınızı Giriniz -> \"))\n",
        "\n",
        "if(yas >= 18 ):\n",
        "  print(\"18 Yaşında veya daha büyük.\")\n",
        "  print(\"Giriş Yapabilir.\")\n",
        "  \n",
        "elif(yas<18):\n",
        "  print(\"18 Yaşından Küçük.\")\n",
        "  print(\"Giriş Yapamaz.\")"
      ],
      "metadata": {
        "colab": {
          "base_uri": "https://localhost:8080/"
        },
        "id": "lSulJw55ow6R",
        "outputId": "7ac9be4d-bb19-4390-b9ff-04185fc31609"
      },
      "execution_count": 7,
      "outputs": [
        {
          "output_type": "stream",
          "name": "stdout",
          "text": [
            "Yaşınızı Giriniz -> 25\n",
            "18 Yaşında veya daha büyük.\n",
            "Giriş Yapabilir.\n"
          ]
        }
      ]
    },
    {
      "cell_type": "code",
      "source": [
        "yas = int(input(\"Yaşınızı Giriniz -> \"))\n",
        "\n",
        "if(yas >= 18 ):\n",
        "  print(\"18 Yaşında veya daha büyük.\")\n",
        "  print(\"Giriş Yapabilir.\")\n",
        "  \n",
        "elif(yas<18):\n",
        "  print(\"18 Yaşından Küçük.\")\n",
        "  print(\"Giriş Yapamaz.\")"
      ],
      "metadata": {
        "colab": {
          "base_uri": "https://localhost:8080/"
        },
        "id": "9B0HQiyKozBd",
        "outputId": "4691af95-b743-4bff-fbfc-32792f0b5955"
      },
      "execution_count": 8,
      "outputs": [
        {
          "output_type": "stream",
          "name": "stdout",
          "text": [
            "Yaşınızı Giriniz -> -13\n",
            "18 Yaşından Küçük.\n",
            "Giriş Yapamaz.\n"
          ]
        }
      ]
    },
    {
      "cell_type": "markdown",
      "source": [
        "Yukarıdaki programda gördüğümüz gibi yaşı 18 veya 18'den büyük olanlar için Giriş Yapabilir. çıktısı alırken \n",
        "\n",
        "yaşı 18'den küçük olanlar için Giriş Yapamaz. çıktısı alıyoruz.\n",
        "\n",
        "fakat yaş için 0'dan küçük bir değer girsek bile mantıksız olsa da program çalışıyor bunu önlemek için aynı anda iki koşul belirtebilmemiz gerekiyor."
      ],
      "metadata": {
        "id": "bwD5Fo01oPdA"
      }
    },
    {
      "cell_type": "code",
      "source": [
        "yas = int(input(\"Yaşınızı Giriniz -> \"))\n",
        "\n",
        "if(yas >= 18 ):\n",
        "  print(\"18 Yaşında veya daha büyük.\")\n",
        "  print(\"Giriş Yapabilir.\")\n",
        "\n",
        "elif(yas >= 0 and yas<18):\n",
        "  print(\"18 Yaşından Küçük.\")\n",
        "  print(\"Giriş Yapamaz.\")\n",
        "  \n",
        "else:\n",
        "  print(\"Geçersiz Değer.\")"
      ],
      "metadata": {
        "colab": {
          "base_uri": "https://localhost:8080/"
        },
        "id": "FpVndxyGo3b7",
        "outputId": "bf08ef0e-cf06-407e-fea2-5c6e484a9f64"
      },
      "execution_count": 10,
      "outputs": [
        {
          "output_type": "stream",
          "name": "stdout",
          "text": [
            "Yaşınızı Giriniz -> -15\n",
            "Geçersiz Değer.\n"
          ]
        }
      ]
    },
    {
      "cell_type": "markdown",
      "source": [
        "yukarıda kullandığımız and, ve anlamına gelmekte ve iki şartın aynı anda sağlanıp sağlanmadığını kontrol etmekte.\n",
        "\n",
        "elif(yas >= 0 and yas<18) koşulunda belirttiğimiz şey yaş hem 0'dan büyük olacak hem de 18'den küçük olacak bu şartlar sağlanırsa bu kod bloğu çalışır.\n",
        "\n",
        "negatif bir sayı girdiğimiz zaman program sırasıyla kontrol edecek.\n",
        "\n",
        "ilk olarak sayının 18'e eşit veya daha büyük olup olmadığını bakacak değer negatif olduğu için bu kod bloğu çalışmayacak ve altındakiyle devam edecek.\n",
        "\n",
        "ikinci olarak sayının 0'dan büyük ve 18'den küçük olma durumunu kontrol edecek sayı negatif olduğu için bu koşul da sağlanmayacak.\n",
        "\n",
        "else, yukarıdaki şartların hiçbirinin sağlanmadığı durumlarda çalışacak kod bloğudur.\n",
        "yani hem ilk koşul sağlanmıyorsa, hem de ikinci koşul sağlanmıyorsa başka seçenek olmadığı için else bloğu çalışacaktır."
      ],
      "metadata": {
        "id": "t27Z-F93pUcK"
      }
    },
    {
      "cell_type": "markdown",
      "source": [
        "and iki koşulun aynı anda sağlandığını kontrol eden operatördü.\n",
        "or ise iki koşuldan birinin sağlandığını kontrol eden operatördür."
      ],
      "metadata": {
        "id": "XOT2wKhjqtnP"
      }
    },
    {
      "cell_type": "code",
      "source": [
        "sayi1 = 5\n",
        "sayi2 = 0\n",
        "\n",
        "if(sayi1 == 5 and sayi2 == 0):  #koşulların ikisi de sağlandı ve çalıştı\n",
        "  print(\"1\")\n",
        "\n",
        "if(sayi1 == 5 or sayi2 == 3):   #koşullardan birisi sağlandı ve çalıştı\n",
        "  print(\"2\")"
      ],
      "metadata": {
        "colab": {
          "base_uri": "https://localhost:8080/"
        },
        "id": "Je9PFchRtWDy",
        "outputId": "1999980d-8ad5-4230-c029-6a21a66cebc1"
      },
      "execution_count": 18,
      "outputs": [
        {
          "output_type": "stream",
          "name": "stdout",
          "text": [
            "1\n",
            "2\n"
          ]
        }
      ]
    },
    {
      "cell_type": "code",
      "source": [
        "sayi = int(input(\"Sayı Giriniz -> \"))\n",
        "\n",
        "if(sayi==70 or sayi == 60):\n",
        "  print(\"Sayı 60 ya da 70tir.\")\n",
        "else:\n",
        "  print(\"Sayı 60 veya 70 Değildir.\")"
      ],
      "metadata": {
        "colab": {
          "base_uri": "https://localhost:8080/"
        },
        "id": "YY01U3AosH-0",
        "outputId": "8ca4932a-5e95-4674-cf1f-901d4eb902a2"
      },
      "execution_count": 11,
      "outputs": [
        {
          "output_type": "stream",
          "name": "stdout",
          "text": [
            "Sayı Giriniz -> 60\n",
            "Sayı 60 ya da 70tir.\n"
          ]
        }
      ]
    },
    {
      "cell_type": "code",
      "source": [
        "sayi = int(input(\"Sayı Giriniz -> \"))\n",
        "\n",
        "if(sayi==70 or sayi == 60):\n",
        "  print(\"Sayı 60 ya da 70tir.\")\n",
        "else:\n",
        "  print(\"Sayı 60 veya 70 Değildir.\")"
      ],
      "metadata": {
        "colab": {
          "base_uri": "https://localhost:8080/"
        },
        "id": "l3Jflespsh0w",
        "outputId": "5f39e8b1-3b3b-4306-a924-d8cecf13d850"
      },
      "execution_count": 12,
      "outputs": [
        {
          "output_type": "stream",
          "name": "stdout",
          "text": [
            "Sayı Giriniz -> 90\n",
            "Sayı 60 veya 70 Değildir.\n"
          ]
        }
      ]
    },
    {
      "cell_type": "code",
      "source": [
        "sayi = int(input(\"Sayı Giriniz -> \"))\n",
        "\n",
        "if(sayi%2==0 and sayi>=0):\n",
        "  print(\"Sayı Çifttir ve Pozitiftir.\")\n",
        "\n",
        "elif(sayi%2==1 and sayi>=0):\n",
        "  print(\"Sayı Tektir ve Pozitiftir.\")\n",
        "\n",
        "elif(sayi%2==0 and sayi<=0):\n",
        "  print(\"Sayı Çifttir ve Negatiftir.\")\n",
        "\n",
        "elif(sayi%2==1 and sayi<=0):\n",
        "  print(\"Sayı Tektir ve Negatiftir.\")\n"
      ],
      "metadata": {
        "colab": {
          "base_uri": "https://localhost:8080/"
        },
        "id": "cYUujxlaskiF",
        "outputId": "806df8ca-9fa5-4925-eccf-53cc824ccb99"
      },
      "execution_count": 16,
      "outputs": [
        {
          "output_type": "stream",
          "name": "stdout",
          "text": [
            "Sayı Giriniz -> -2\n",
            "Sayı Çifttir ve Negatiftir.\n"
          ]
        }
      ]
    },
    {
      "cell_type": "markdown",
      "source": [
        "bmi  = kilo/(boy*boy)\n",
        "\n",
        "bmi 18 ile  25 aralığındaysa normal,\n",
        "\n",
        "bmi 25 ile 30 aralığındaysa kilolu,\n",
        "\n",
        "bmi 30 ile 35 aralığındaysa obez,\n",
        "\n",
        "bmi 35 ve daha fazlaysa ciddi obez olarak kabul edilir.\n",
        "\n",
        "yukarıda verilen bilgilere göre bmi hesaplayan ve kullanıcaya hangi aralıkta olduğunu (normal, kilolu, obez, ciddi obez) söyleyen bir kod yazınız."
      ],
      "metadata": {
        "id": "feNarYdHx6Jk"
      }
    }
  ]
}